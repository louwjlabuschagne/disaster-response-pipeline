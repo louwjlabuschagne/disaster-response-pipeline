{
 "cells": [
  {
   "cell_type": "markdown",
   "metadata": {
    "toc": true
   },
   "source": [
    "<h1>Table of Contents<span class=\"tocSkip\"></span></h1>\n",
    "<div class=\"toc\"><ul class=\"toc-item\"></ul></div>"
   ]
  },
  {
   "cell_type": "code",
   "execution_count": null,
   "metadata": {
    "ExecuteTime": {
     "end_time": "2019-08-27T14:46:42.791572Z",
     "start_time": "2019-08-27T14:46:42.293453Z"
    }
   },
   "outputs": [],
   "source": [
    "from sqlalchemy import create_engine\n",
    "import pandas as pd"
   ]
  },
  {
   "cell_type": "code",
   "execution_count": null,
   "metadata": {
    "ExecuteTime": {
     "end_time": "2019-08-27T14:46:43.448699Z",
     "start_time": "2019-08-27T14:46:42.807580Z"
    }
   },
   "outputs": [],
   "source": [
    "engine = create_engine('sqlite:///../db/DisasterResponse.db')\n",
    "df = pd.read_sql_table('Message', engine)"
   ]
  },
  {
   "cell_type": "code",
   "execution_count": null,
   "metadata": {
    "ExecuteTime": {
     "end_time": "2019-08-27T14:51:21.669528Z",
     "start_time": "2019-08-27T14:51:21.644366Z"
    }
   },
   "outputs": [],
   "source": [
    "categories = pd.DataFrame(df[['related', 'request',\n",
    "       'offer', 'aid_related', 'medical_help', 'medical_products',\n",
    "       'search_and_rescue', 'security', 'military', 'child_alone', 'water',\n",
    "       'food', 'shelter', 'clothing', 'money', 'missing_people', 'refugees',\n",
    "       'death', 'other_aid', 'infrastructure_related', 'transport',\n",
    "       'buildings', 'electricity', 'tools', 'hospitals', 'shops',\n",
    "       'aid_centers', 'other_infrastructure', 'weather_related', 'floods',\n",
    "       'storm', 'fire', 'earthquake', 'cold', 'other_weather',\n",
    "       'direct_report']].sum()).reset_index().rename(columns={'index':'category', 0:'cat_count'})"
   ]
  },
  {
   "cell_type": "code",
   "execution_count": null,
   "metadata": {
    "ExecuteTime": {
     "end_time": "2019-08-27T14:51:24.174259Z",
     "start_time": "2019-08-27T14:51:24.158912Z"
    }
   },
   "outputs": [],
   "source": [
    "from plotly.graph_objs import Bar\n",
    "{\n",
    "    'data': [\n",
    "        Bar(\n",
    "            x=categories.category,\n",
    "            y=categories.cat_count\n",
    "        )\n",
    "    ],\n",
    "\n",
    "    'layout': {\n",
    "        'title': 'Distribution of Message Genres',\n",
    "        'yaxis': {\n",
    "            'title': \"Count\"\n",
    "        },\n",
    "        'xaxis': {\n",
    "            'title': \"Genre\"\n",
    "        }\n",
    "    }\n",
    "},"
   ]
  },
  {
   "cell_type": "code",
   "execution_count": null,
   "metadata": {
    "ExecuteTime": {
     "end_time": "2019-08-27T15:01:55.709443Z",
     "start_time": "2019-08-27T15:01:55.692898Z"
    }
   },
   "outputs": [],
   "source": [
    "df['message_length'] = df.message.apply(lambda x: len(x))"
   ]
  },
  {
   "cell_type": "code",
   "execution_count": null,
   "metadata": {},
   "outputs": [],
   "source": [
    "categories_avg_len = pd.DataFrame(df[['related', 'request',\n",
    "       'offer', 'aid_related', 'medical_help', 'medical_products',\n",
    "       'search_and_rescue', 'security', 'military', 'child_alone', 'water',\n",
    "       'food', 'shelter', 'clothing', 'money', 'missing_people', 'refugees',\n",
    "       'death', 'other_aid', 'infrastructure_related', 'transport',\n",
    "       'buildings', 'electricity', 'tools', 'hospitals', 'shops',\n",
    "       'aid_centers', 'other_infrastructure', 'weather_related', 'floods',\n",
    "       'storm', 'fire', 'earthquake', 'cold', 'other_weather',\n",
    "       'direct_report']].sum()).reset_index().rename(columns={'index':'category', 0:'cat_count'})"
   ]
  },
  {
   "cell_type": "code",
   "execution_count": null,
   "metadata": {
    "ExecuteTime": {
     "end_time": "2019-08-27T15:06:27.043857Z",
     "start_time": "2019-08-27T15:06:27.038414Z"
    }
   },
   "outputs": [],
   "source": [
    "cats = ['related', 'request',\n",
    "       'offer', 'aid_related', 'medical_help', 'medical_products',\n",
    "       'search_and_rescue', 'security', 'military', 'child_alone', 'water',\n",
    "       'food', 'shelter', 'clothing', 'money', 'missing_people', 'refugees',\n",
    "       'death', 'other_aid', 'infrastructure_related', 'transport',\n",
    "       'buildings', 'electricity', 'tools', 'hospitals', 'shops',\n",
    "       'aid_centers', 'other_infrastructure', 'weather_related', 'floods',\n",
    "       'storm', 'fire', 'earthquake', 'cold', 'other_weather',\n",
    "       'direct_report']\n",
    "\n",
    "mean_lengths = []\n",
    "for cat in cats:\n",
    "    mean_lengths.append(df[df[cat] == 1].message_length.mean())\n",
    "\n",
    "mean_length_df = pd.DataFrame(dict(category=cats, \n",
    "                                  avg_lengths=mean_lengths))"
   ]
  },
  {
   "cell_type": "code",
   "execution_count": null,
   "metadata": {
    "ExecuteTime": {
     "end_time": "2019-08-27T15:08:33.589386Z",
     "start_time": "2019-08-27T15:08:33.577710Z"
    }
   },
   "outputs": [],
   "source": [
    "\n",
    "{\n",
    "    'data': [\n",
    "        Bar(\n",
    "            x=mean_length_df.cats,\n",
    "            y=mean_length_df.mean_lengths\n",
    "        )\n",
    "    ],\n",
    "\n",
    "    'layout': {\n",
    "        'title': 'Mean words in message per category',\n",
    "        'yaxis': {\n",
    "            'title': \"Mean word length\"\n",
    "        },\n",
    "        'xaxis': {\n",
    "            'title': \"\"\n",
    "        }\n",
    "    }\n",
    "},"
   ]
  },
  {
   "cell_type": "code",
   "execution_count": null,
   "metadata": {
    "ExecuteTime": {
     "end_time": "2019-08-27T15:05:34.657780Z",
     "start_time": "2019-08-27T15:05:34.592734Z"
    }
   },
   "outputs": [],
   "source": [
    "df[['related', 'request',\n",
    "       'offer', 'aid_related', 'medical_help', 'medical_products',\n",
    "       'search_and_rescue', 'security', 'military', 'child_alone', 'water',\n",
    "       'food', 'shelter', 'clothing', 'money', 'missing_people', 'refugees',\n",
    "       'death', 'other_aid', 'infrastructure_related', 'transport',\n",
    "       'buildings', 'electricity', 'tools', 'hospitals', 'shops',\n",
    "       'aid_centers', 'other_infrastructure', 'weather_related', 'floods',\n",
    "       'storm', 'fire', 'earthquake', 'cold', 'other_weather',\n",
    "       'direct_report']]"
   ]
  },
  {
   "cell_type": "code",
   "execution_count": null,
   "metadata": {
    "ExecuteTime": {
     "end_time": "2019-08-27T15:02:40.509482Z",
     "start_time": "2019-08-27T15:02:40.485634Z"
    }
   },
   "outputs": [],
   "source": [
    "from plotly.graph_objs import Bar\n",
    "{\n",
    "    'data': [\n",
    "        Bar(\n",
    "            x=categories.category,\n",
    "            y=categories.message_length\n",
    "        )\n",
    "    ],\n",
    "\n",
    "    'layout': {\n",
    "        'title': 'Distribution of Message Genres',\n",
    "        'yaxis': {\n",
    "            'title': \"Count\"\n",
    "        },\n",
    "        'xaxis': {\n",
    "            'title': \"Genre\"\n",
    "        }\n",
    "    }\n",
    "},"
   ]
  },
  {
   "cell_type": "code",
   "execution_count": null,
   "metadata": {
    "ExecuteTime": {
     "end_time": "2019-08-27T15:02:21.174785Z",
     "start_time": "2019-08-27T15:02:21.153048Z"
    }
   },
   "outputs": [],
   "source": [
    "df.head()"
   ]
  },
  {
   "cell_type": "code",
   "execution_count": null,
   "metadata": {},
   "outputs": [],
   "source": []
  }
 ],
 "metadata": {
  "kernelspec": {
   "display_name": "Python 3",
   "language": "python",
   "name": "python3"
  },
  "language_info": {
   "codemirror_mode": {
    "name": "ipython",
    "version": 3
   },
   "file_extension": ".py",
   "mimetype": "text/x-python",
   "name": "python",
   "nbconvert_exporter": "python",
   "pygments_lexer": "ipython3",
   "version": "3.6.8"
  },
  "latex_envs": {
   "LaTeX_envs_menu_present": true,
   "autoclose": false,
   "autocomplete": true,
   "bibliofile": "biblio.bib",
   "cite_by": "apalike",
   "current_citInitial": 1,
   "eqLabelWithNumbers": true,
   "eqNumInitial": 1,
   "hotkeys": {
    "equation": "Ctrl-E",
    "itemize": "Ctrl-I"
   },
   "labels_anchors": false,
   "latex_user_defs": false,
   "report_style_numbering": false,
   "user_envs_cfg": false
  },
  "toc": {
   "nav_menu": {},
   "number_sections": false,
   "sideBar": true,
   "skip_h1_title": false,
   "title_cell": "Table of Contents",
   "title_sidebar": "Contents",
   "toc_cell": true,
   "toc_position": {},
   "toc_section_display": true,
   "toc_window_display": false
  },
  "varInspector": {
   "cols": {
    "lenName": 16,
    "lenType": 16,
    "lenVar": 40
   },
   "kernels_config": {
    "python": {
     "delete_cmd_postfix": "",
     "delete_cmd_prefix": "del ",
     "library": "var_list.py",
     "varRefreshCmd": "print(var_dic_list())"
    },
    "r": {
     "delete_cmd_postfix": ") ",
     "delete_cmd_prefix": "rm(",
     "library": "var_list.r",
     "varRefreshCmd": "cat(var_dic_list()) "
    }
   },
   "types_to_exclude": [
    "module",
    "function",
    "builtin_function_or_method",
    "instance",
    "_Feature"
   ],
   "window_display": false
  }
 },
 "nbformat": 4,
 "nbformat_minor": 2
}
